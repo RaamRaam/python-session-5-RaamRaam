{
 "cells": [
  {
   "cell_type": "markdown",
   "id": "changing-sound",
   "metadata": {},
   "source": [
    "# Write a function using only list filter lambda that can tell whether a number is a Fibonacci number or not. You can use a pre-calculated list/dict to store fab numbers till 10000"
   ]
  },
  {
   "cell_type": "code",
   "execution_count": 1,
   "id": "great-possibility",
   "metadata": {},
   "outputs": [
    {
     "name": "stdout",
     "output_type": "stream",
     "text": [
      "[0, 1, 1, 2, 3, 5, 8, 13, 21, 34, 55, 89, 144, 233, 377, 610, 987, 1597, 2584, 4181, 6765, 10946]\n"
     ]
    },
    {
     "data": {
      "text/plain": [
       "'89 is a Fibnacci number'"
      ]
     },
     "execution_count": 1,
     "metadata": {},
     "output_type": "execute_result"
    }
   ],
   "source": [
    "fib_series=[0,1]\n",
    "\n",
    "for i in range(100):\n",
    "    fib_series.append(fib_series[-1]+fib_series[-2])\n",
    "    if fib_series[-1]>=10000:\n",
    "        break\n",
    "\n",
    "print(fib_series)\n",
    "n=89\n",
    "check_if_fibonacci=lambda n: filter(lambda x : x==n , fib_series)\n",
    "\n",
    "str(n)+((' is a Fibnacci number' if any(list(check_if_fibonacci(n))) else ' is not a Fibnacci number') if n<=10000 else ' - Please enter number < 10000')\n",
    "\n"
   ]
  },
  {
   "cell_type": "markdown",
   "id": "liberal-instrument",
   "metadata": {},
   "source": [
    "# Using list comprehension (and zip/lambda/etc if required) write an expression that\n",
    "## 1. add 2 iterables a and b such that a is even and b is odd"
   ]
  },
  {
   "cell_type": "code",
   "execution_count": 2,
   "id": "institutional-import",
   "metadata": {},
   "outputs": [
    {
     "name": "stdout",
     "output_type": "stream",
     "text": [
      "a: [63, 49, 90, 1, 97, 89, 33, 49, 36, 31, 39, 49, 35, 15, 82, 66, 87, 21, 56, 63, 55, 69, 25, 36, 34]\n",
      "b: [28, 82, 59, 32, 20, 46, 17, 94, 30, 51, 4, 52, 85, 95, 92, 26, 82, 86, 71, 17, 18, 80, 71, 40, 43]\n",
      "sum of items that have even a and odd b: [149, 127, 77]\n"
     ]
    }
   ],
   "source": [
    "import random\n",
    "a=random.choices(list(range(100)),k=25)\n",
    "b=random.choices(list(range(100)),k=25)\n",
    "print('a:',a)\n",
    "print('b:', b)\n",
    "print('sum of items that have even a and odd b:', [sum(i) for i in zip(a,b) if i[0]%2==0 and i[1]%2!=0])"
   ]
  },
  {
   "cell_type": "markdown",
   "id": "authorized-winter",
   "metadata": {},
   "source": [
    "## 2. strips every vowel from a string provided (tsai>>t s)\n",
    "\n",
    "\n",
    "\n"
   ]
  },
  {
   "cell_type": "code",
   "execution_count": 3,
   "id": "ranking-posting",
   "metadata": {},
   "outputs": [
    {
     "name": "stdout",
     "output_type": "stream",
     "text": [
      "Input String: Automobiles\n",
      "Output String:  Atmbls\n"
     ]
    }
   ],
   "source": [
    "input_string='Automobiles'\n",
    "\n",
    "input_list=list(input_string)\n",
    "for i in list('aeiou'):\n",
    "    if i in input_list:\n",
    "        input_list=list(filter(lambda x:x!=i,input_list))\n",
    "        \n",
    "print('Input String:',input_string)        \n",
    "print('Output String: ',''.join(input_list))"
   ]
  },
  {
   "cell_type": "markdown",
   "id": "amateur-calgary",
   "metadata": {},
   "source": [
    "## 3. acts like a ReLU function for a 1D array"
   ]
  },
  {
   "cell_type": "code",
   "execution_count": 4,
   "id": "regional-faith",
   "metadata": {},
   "outputs": [
    {
     "name": "stdout",
     "output_type": "stream",
     "text": [
      "Input List [19, -12, -14, 12, -1, 16, 8, -18, 23, 13, 13, 17, -4, 23, 2, 3, -8, -8, -23, 1, 19, -12, -17, 0, -25]\n",
      "Relu output [19, 0, 0, 12, 0, 16, 8, 0, 23, 13, 13, 17, 0, 23, 2, 3, 0, 0, 0, 1, 19, 0, 0, 0, 0]\n"
     ]
    }
   ],
   "source": [
    "import random\n",
    "input_list=[random.randint(-25,25) for i in range(25)]\n",
    "print('Input List',input_list)\n",
    "print('Relu output',[i if i>0 else 0 for i in input_list])\n",
    "\n"
   ]
  },
  {
   "cell_type": "markdown",
   "id": "fossil-binary",
   "metadata": {},
   "source": [
    "## 4. acts like a sigmoid function for a 1D array"
   ]
  },
  {
   "cell_type": "code",
   "execution_count": 5,
   "id": "recent-association",
   "metadata": {},
   "outputs": [
    {
     "name": "stdout",
     "output_type": "stream",
     "text": [
      "Input List [20, 14, 17, 4, 20, -13, 5, 25, 19, -8, -1, -6, 22, 5, 4, 3, 0, -11, -19, -11, 10, -1, 9, -24, 8]\n",
      "Sigmoid output [0.9999999979388463, 0.9999991684719722, 0.9999999586006244, 0.9820137900379085, 0.9999999979388463, 2.2603242979035746e-06, 0.9933071490757153, 0.999999999986112, 0.9999999943972036, 0.0003353501304664781, 0.2689414213699951, 0.0024726231566347743, 0.9999999997210531, 0.9933071490757153, 0.9820137900379085, 0.9525741268224334, 0.5, 1.670142184809518e-05, 5.602796406145941e-09, 1.670142184809518e-05, 0.9999546021312976, 0.2689414213699951, 0.9998766054240137, 3.7751345441365816e-11, 0.9996646498695336]\n"
     ]
    }
   ],
   "source": [
    "import numpy as np\n",
    "import random\n",
    "input_list=[random.randint(-25,25) for i in range(25)]\n",
    "print('Input List',input_list)\n",
    "print('Sigmoid output',[1/(1 + np.exp(-i))  for i in input_list])"
   ]
  },
  {
   "cell_type": "markdown",
   "id": "baking-faith",
   "metadata": {},
   "source": [
    "## 5. takes a small character string and shifts all characters by 5 (handle boundary conditions) tsai>>yxfn"
   ]
  },
  {
   "cell_type": "code",
   "execution_count": 6,
   "id": "distinct-steering",
   "metadata": {},
   "outputs": [
    {
     "name": "stdout",
     "output_type": "stream",
     "text": [
      "Input String: boundary\n",
      "Output String: gtzsifwz\n"
     ]
    }
   ],
   "source": [
    "import string\n",
    "chr_list=list(string.ascii_lowercase)\n",
    "input_string='boundary'\n",
    "print('Input String:',input_string)\n",
    "print('Output String:',''.join([chr_list[min(len(chr_list)-1,chr_list.index(i)+5)] for i in list(input_string.lower())]))"
   ]
  },
  {
   "cell_type": "markdown",
   "id": "blond-palmer",
   "metadata": {},
   "source": [
    "# A list comprehension expression that takes a ~200 word paragraph, and checks whether it has any of the swear words mentioned in https://github.com/RobertJGabriel/Google-profanity-words/blob/master/list.txt "
   ]
  },
  {
   "cell_type": "code",
   "execution_count": 7,
   "id": "unavailable-original",
   "metadata": {},
   "outputs": [
    {
     "name": "stdout",
     "output_type": "stream",
     "text": [
      "Content Contains Swear words: True\n"
     ]
    }
   ],
   "source": [
    "import urllib.request\n",
    "url = 'https://raw.githubusercontent.com/RobertJGabriel/Google-profanity-words/master/list.txt'\n",
    "cuss_words=[line.decode(\"utf-8\")[:-1] for line in urllib.request.urlopen(url)]\n",
    "\n",
    "content='I like when I get to 5hit share my thoughts with the whole class. It makes me feel kind of like happy, because everyone is paying attention. It’s great because you actually get to share your thoughts and it makes you feel good. You’re being respected and everyone’s listening to you . . . and you should do the same thing to other people'\n",
    "\n",
    "print('Content Contains Swear words:',bool(len(set(content.split(' ')).intersection(set(cuss_words)))))"
   ]
  },
  {
   "cell_type": "markdown",
   "id": "designing-retreat",
   "metadata": {},
   "source": [
    "# Using reduce function\n",
    "## 1. add only even numbers in a list"
   ]
  },
  {
   "cell_type": "code",
   "execution_count": 8,
   "id": "broke-distance",
   "metadata": {},
   "outputs": [
    {
     "name": "stdout",
     "output_type": "stream",
     "text": [
      "Input list: [15, 59, 99, 76, 96, 49, 29, 25, 18, 28, 15, 72, 37, 1, 57, 37, 92, 59, 95, 89, 7, 63, 83, 19, 42]\n",
      "sum of even numbers: 424\n"
     ]
    }
   ],
   "source": [
    "from functools import reduce\n",
    "import random\n",
    "input_list=random.choices(list(range(100)),k=25)\n",
    "print('Input list:', input_list)\n",
    "print('sum of even numbers:',reduce(lambda x, y: x + y if not y % 2 else x, input_list, 0))"
   ]
  },
  {
   "cell_type": "markdown",
   "id": "compound-sleeping",
   "metadata": {},
   "source": [
    "## 2. find the biggest character in a string (printable ascii characters)"
   ]
  },
  {
   "cell_type": "code",
   "execution_count": 9,
   "id": "sexual-attribute",
   "metadata": {},
   "outputs": [
    {
     "name": "stdout",
     "output_type": "stream",
     "text": [
      "Input String: find the biggest character in a string (printable ascii characters)\n",
      "Biggest Character in Input String: t\n"
     ]
    }
   ],
   "source": [
    "import string\n",
    "input_string='find the biggest character in a string (printable ascii characters)'\n",
    "\n",
    "# sorted([ord(i) for i in string.printable])\n",
    "print('Input String:',input_string)\n",
    "print('Biggest Character in Input String:',reduce(lambda x,y: y if ord(y)>ord(x) else x, list(input_string)))"
   ]
  },
  {
   "cell_type": "markdown",
   "id": "ambient-mississippi",
   "metadata": {},
   "source": [
    "## 3. adds every 3rd number in a list"
   ]
  },
  {
   "cell_type": "code",
   "execution_count": 10,
   "id": "english-amazon",
   "metadata": {},
   "outputs": [
    {
     "name": "stdout",
     "output_type": "stream",
     "text": [
      "Input list: [8, 78, 36, 81, 21, 62, 99, 7, 2, 27, 8, 51, 55, 46, 71, 69, 32, 38, 13, 24, 54, 5, 50, 28, 41]\n",
      "sum of every 3 number in the input list: 342\n"
     ]
    }
   ],
   "source": [
    "from functools import reduce\n",
    "import random\n",
    "input_list=random.choices(list(range(100)),k=25)\n",
    "\n",
    "step=3\n",
    "\n",
    "print('Input list:', input_list)\n",
    "print('sum of every '+str(step)+' number in the input list:',reduce(lambda x,y: x+y, input_list[step-1::step]))"
   ]
  },
  {
   "cell_type": "markdown",
   "id": "disciplinary-frank",
   "metadata": {},
   "source": [
    "# Using randint, random.choice and list comprehensions, write an expression that generates 15 random KADDAADDDD number plates, where KA is fixed, D stands for a digit, and A stands for Capital alphabets. 10<<DD<<99 & 1000<<DDDD<<9999"
   ]
  },
  {
   "cell_type": "code",
   "execution_count": 11,
   "id": "civilian-morris",
   "metadata": {},
   "outputs": [
    {
     "data": {
      "text/plain": [
       "['KA 65 BI 3282',\n",
       " 'KA 70 GE 6317',\n",
       " 'KA 20 TP 2626',\n",
       " 'KA 16 IS 1321',\n",
       " 'KA 57 YT 7992',\n",
       " 'KA 38 RF 3270',\n",
       " 'KA 95 EB 9687',\n",
       " 'KA 97 BQ 3555',\n",
       " 'KA 80 BE 7321',\n",
       " 'KA 78 HR 5864',\n",
       " 'KA 64 FG 4818',\n",
       " 'KA 59 PY 5452',\n",
       " 'KA 55 BL 6699',\n",
       " 'KA 21 JO 7631',\n",
       " 'KA 17 PY 9610']"
      ]
     },
     "execution_count": 11,
     "metadata": {},
     "output_type": "execute_result"
    }
   ],
   "source": [
    "import random\n",
    "['KA '+str(random.randint(10,99))+' '+string.ascii_uppercase[random.randint(0,len(string.ascii_uppercase)-1)]+string.ascii_uppercase[random.randint(0,len(string.ascii_uppercase)-1)]+' '+str(random.randint(1000,9999)) for i in range(15)]"
   ]
  },
  {
   "cell_type": "markdown",
   "id": "returning-consequence",
   "metadata": {},
   "source": [
    "# Write the above again from scratch where KA can be changed to DL, and 1000/9999 ranges can be provided. Now use a partial function such that 1000/9999 are hardcoded, but KA can be provided"
   ]
  },
  {
   "cell_type": "code",
   "execution_count": 12,
   "id": "minute-sellers",
   "metadata": {},
   "outputs": [
    {
     "data": {
      "text/plain": [
       "['DL 95 US 1406',\n",
       " 'DL 16 ZN 1042',\n",
       " 'DL 80 JW 1201',\n",
       " 'DL 36 YF 1739',\n",
       " 'DL 39 BU 1298',\n",
       " 'DL 70 OL 1452',\n",
       " 'DL 43 JU 1751',\n",
       " 'DL 98 PD 1743',\n",
       " 'DL 77 IE 1703',\n",
       " 'DL 76 EV 1026',\n",
       " 'DL 34 YC 1595',\n",
       " 'DL 62 SJ 1035',\n",
       " 'DL 46 UI 1000',\n",
       " 'DL 93 NG 1960',\n",
       " 'DL 80 QA 1195']"
      ]
     },
     "execution_count": 12,
     "metadata": {},
     "output_type": "execute_result"
    }
   ],
   "source": [
    "import random\n",
    "from functools import partial\n",
    "\n",
    "\n",
    "def generate_number_plates(range_of_values,prefix):\n",
    "    return [prefix+' '+str(random.randint(10,99))+' '+string.ascii_uppercase[random.randint(0,len(string.ascii_uppercase)-1)]+string.ascii_uppercase[random.randint(0,len(string.ascii_uppercase)-1)]+' '+str(random.randint(range_of_values[0],range_of_values[1])) for i in range(15)]\n",
    "\n",
    "generate_number_plates_for_city=partial(generate_number_plates,(1000,2000))\n",
    "\n",
    "prefix = 'DL'\n",
    "generate_number_plates_for_city(prefix)\n"
   ]
  }
 ],
 "metadata": {
  "kernelspec": {
   "display_name": "Python 3",
   "language": "python",
   "name": "python3"
  },
  "language_info": {
   "codemirror_mode": {
    "name": "ipython",
    "version": 3
   },
   "file_extension": ".py",
   "mimetype": "text/x-python",
   "name": "python",
   "nbconvert_exporter": "python",
   "pygments_lexer": "ipython3",
   "version": "3.9.1"
  }
 },
 "nbformat": 4,
 "nbformat_minor": 5
}
